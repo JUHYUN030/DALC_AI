{
  "nbformat": 4,
  "nbformat_minor": 0,
  "metadata": {
    "kernelspec": {
      "display_name": "Python 3",
      "language": "python",
      "name": "python3"
    },
    "language_info": {
      "codemirror_mode": {
        "name": "ipython",
        "version": 3
      },
      "file_extension": ".py",
      "mimetype": "text/x-python",
      "name": "python",
      "nbconvert_exporter": "python",
      "pygments_lexer": "ipython3",
      "version": "3.6.5"
    },
    "colab": {
      "name": "(실습)DALC_AIstudy_Ensemble.ipynb",
      "provenance": [],
      "collapsed_sections": [],
      "include_colab_link": true
    }
  },
  "cells": [
    {
      "cell_type": "markdown",
      "metadata": {
        "id": "view-in-github",
        "colab_type": "text"
      },
      "source": [
        "<a href=\"https://colab.research.google.com/github/JUHYUN030/DALC_AI/blob/main/(%EC%8B%A4%EC%8A%B5)DALC_AIstudy_Ensemble.ipynb\" target=\"_parent\"><img src=\"https://colab.research.google.com/assets/colab-badge.svg\" alt=\"Open In Colab\"/></a>"
      ]
    },
    {
      "cell_type": "markdown",
      "metadata": {
        "id": "T9uFJpAHu39B"
      },
      "source": [
        "## 앙상블(Ensemble)"
      ]
    },
    {
      "cell_type": "markdown",
      "metadata": {
        "id": "5ox5-Djiu39L"
      },
      "source": [
        "## Bagging meta-estimator\n",
        "    * bagging은 bootstrap aggregating의 줄임말\n",
        "    * 원래 훈련 데이터셋의 일부를 사용해 여러 모델을 훈련\n",
        "    * 각각의 결과를 결합해 최종 결과를 생성\n",
        "    * 분산을 줄이고 과적합을 막음\n",
        "    * 강력하고 복잡한 모델에서 잘 동작"
      ]
    },
    {
      "cell_type": "markdown",
      "metadata": {
        "id": "m5CnGY1Du39M"
      },
      "source": [
        "### 필요한 데이터 셋"
      ]
    },
    {
      "cell_type": "code",
      "metadata": {
        "id": "lVqbjHe6u39N"
      },
      "source": [
        "from sklearn.datasets import load_iris, load_wine, load_breast_cancer\n",
        "from sklearn.datasets import load_boston, load_diabetes\n",
        "from sklearn.preprocessing import StandardScaler\n",
        "from sklearn.pipeline import make_pipeline\n",
        "from sklearn.model_selection import cross_validate"
      ],
      "execution_count": 72,
      "outputs": []
    },
    {
      "cell_type": "markdown",
      "metadata": {
        "id": "um9VPKVMu39O"
      },
      "source": [
        "### 분류 모델"
      ]
    },
    {
      "cell_type": "code",
      "metadata": {
        "id": "tt1ZLVybu39O"
      },
      "source": [
        "from sklearn.ensemble import BaggingClassifier\n",
        "from sklearn.neighbors import KNeighborsClassifier\n",
        "from sklearn.svm import SVC\n",
        "from sklearn.tree import DecisionTreeClassifier"
      ],
      "execution_count": 73,
      "outputs": []
    },
    {
      "cell_type": "code",
      "metadata": {
        "id": "LViVptZYu39P"
      },
      "source": [
        "from sklearn.ensemble import BaggingRegressor\n",
        "from sklearn.neighbors import KNeighborsRegressor\n",
        "from sklearn.svm import SVR\n",
        "from sklearn.tree import DecisionTreeRegressor"
      ],
      "execution_count": 74,
      "outputs": []
    },
    {
      "cell_type": "markdown",
      "metadata": {
        "id": "bYXCi7YUu39P"
      },
      "source": [
        "## Bagging을 사용한 분류"
      ]
    },
    {
      "cell_type": "markdown",
      "metadata": {
        "id": "Lz60w2syu39Q"
      },
      "source": [
        "데이터셋 불러오기"
      ]
    },
    {
      "cell_type": "code",
      "metadata": {
        "id": "liO4Vj0Uu39Q"
      },
      "source": [
        "iris = load_iris()\n",
        "wine = load_wine()\n",
        "cancer = load_breast_cancer()"
      ],
      "execution_count": 75,
      "outputs": []
    },
    {
      "cell_type": "markdown",
      "metadata": {
        "id": "uPiake1Ou39R"
      },
      "source": [
        "## KNN\n",
        "붓꽃 데이터"
      ]
    },
    {
      "cell_type": "code",
      "metadata": {
        "id": "69Ojnk6Du39R"
      },
      "source": [
        "# 베이스 모델\n",
        "# 데이터 모델링하기 하기전에는 반드시 스케일링 과정을 거쳐야함\n",
        "# StandardScaler() : 스케일러(기본 스케일. 평균과 표준편차 사용)\n",
        "base_model = make_pipeline(StandardScaler(),\n",
        "                          KNeighborsClassifier()) # KNN모델 만듬\n",
        "# 베이스 모델을 사용한 배깅 모델\n",
        "bagging_model = BaggingClassifier(base_model, n_estimators=10, max_samples=0.5, max_features=0.5) # Bagging KNN 모델 만듬"
      ],
      "execution_count": 76,
      "outputs": []
    },
    {
      "cell_type": "markdown",
      "metadata": {
        "id": "-OG0JHYYu39R"
      },
      "source": [
        "#### 분류기에 사용되는 매개변수\n",
        "* n_estimators : 앙상블에 사용할 분류기의 수\n",
        "* max_samples : 무작위로 뽑을 샘플의 수(0~1사이의 수로 지정하면 비율이 되어, 훈련세트에 곱한 값만큼 샘플링)\n",
        "* max_features: 최대 feature의 수\n"
      ]
    },
    {
      "cell_type": "code",
      "metadata": {
        "colab": {
          "base_uri": "https://localhost:8080/"
        },
        "id": "TnowpRKxu39S",
        "outputId": "f47be8f7-c13e-478d-92d1-8df50741b401"
      },
      "source": [
        "# 베이스 모델을 사용\n",
        "cross_val = cross_validate(\n",
        "    estimator = base_model, # 베이스 모델을 기준으로 측정하기에 estimator에 base_model 넣음\n",
        "    X = iris.data, y=iris.target, # x는 train set, y는 test set\n",
        "    cv = 5)\n",
        "# 교차검증을 통해 해당 모델의 정확성, 작동하는데 걸린 시간 등을 알 수 있음\n",
        "print('avg fit time: {} (+/- {})'.format(cross_val['fit_time'].mean(), cross_val['fit_time'].std()))\n",
        "print('avg score time: {} (+/- {})'.format(cross_val['score_time'].mean(), cross_val['score_time'].std()))\n",
        "print('avg test score: {} (+/- {})'.format(cross_val['test_score'].mean(), cross_val['test_score'].std()))"
      ],
      "execution_count": 77,
      "outputs": [
        {
          "output_type": "stream",
          "text": [
            "avg fit time: 0.0016570091247558594 (+/- 0.00054084088838644)\n",
            "avg score time: 0.003146934509277344 (+/- 0.0010678183875395513)\n",
            "avg test score: 0.96 (+/- 0.024944382578492935)\n"
          ],
          "name": "stdout"
        }
      ]
    },
    {
      "cell_type": "code",
      "metadata": {
        "colab": {
          "base_uri": "https://localhost:8080/"
        },
        "id": "bhW0SY_Hu39U",
        "outputId": "6f71a5ee-ea35-48d2-85b4-82b3edb341b2"
      },
      "source": [
        "# 배깅 모델 사용\n",
        "cross_val = cross_validate(\n",
        "    estimator = bagging_model,\n",
        "    X = iris.data, y=iris.target,\n",
        "    cv = 5)\n",
        "print('avg fit time: {} (+/- {})'.format(cross_val['fit_time'].mean(), cross_val['fit_time'].std()))\n",
        "print('avg score time: {} (+/- {})'.format(cross_val['score_time'].mean(), cross_val['score_time'].std()))\n",
        "print('avg test score: {} (+/- {})'.format(cross_val['test_score'].mean(), cross_val['test_score'].std()))"
      ],
      "execution_count": 78,
      "outputs": [
        {
          "output_type": "stream",
          "text": [
            "avg fit time: 0.022936630249023437 (+/- 0.0012904160303423143)\n",
            "avg score time: 0.010262823104858399 (+/- 0.0022585869791821494)\n",
            "avg test score: 0.96 (+/- 0.03265986323710903)\n"
          ],
          "name": "stdout"
        }
      ]
    },
    {
      "cell_type": "markdown",
      "metadata": {
        "id": "V3TRtEL5u39U"
      },
      "source": [
        "와인 데이터"
      ]
    },
    {
      "cell_type": "code",
      "metadata": {
        "id": "xd4VVRdzu39V"
      },
      "source": [
        "base_model = make_pipeline(StandardScaler(),\n",
        "                          KNeighborsClassifier())\n",
        "bagging_model = BaggingClassifier(base_model, n_estimators=10, max_samples=0.5, max_features=0.5)"
      ],
      "execution_count": 79,
      "outputs": []
    },
    {
      "cell_type": "code",
      "metadata": {
        "colab": {
          "base_uri": "https://localhost:8080/"
        },
        "id": "JS2-nwJau39V",
        "outputId": "bd97c734-ac87-44f4-bba9-a814d470b82d"
      },
      "source": [
        "# 베이스 모델을 사용\n",
        "cross_val = cross_validate(\n",
        "    estimator = base_model,\n",
        "    X = wine.data, y=wine.target,\n",
        "    cv = 5)\n",
        "print('avg fit time: {} (+/- {})'.format(cross_val['fit_time'].mean(), cross_val['fit_time'].std()))\n",
        "print('avg score time: {} (+/- {})'.format(cross_val['score_time'].mean(), cross_val['score_time'].std()))\n",
        "print('avg test score: {} (+/- {})'.format(cross_val['test_score'].mean(), cross_val['test_score'].std()))"
      ],
      "execution_count": 80,
      "outputs": [
        {
          "output_type": "stream",
          "text": [
            "avg fit time: 0.0015060901641845703 (+/- 0.0004887569008789552)\n",
            "avg score time: 0.0027279376983642576 (+/- 0.0006509969492297201)\n",
            "avg test score: 0.9493650793650794 (+/- 0.037910929811115976)\n"
          ],
          "name": "stdout"
        }
      ]
    },
    {
      "cell_type": "code",
      "metadata": {
        "colab": {
          "base_uri": "https://localhost:8080/"
        },
        "id": "yO0BMEcDu39W",
        "outputId": "9c5614f3-8013-45ab-9158-d2f6b7b791c8"
      },
      "source": [
        "# 배깅 모델을 사용\n",
        "cross_val = cross_validate(\n",
        "    estimator = bagging_model,\n",
        "    X = wine.data, y=wine.target,\n",
        "    cv = 5)\n",
        "print('avg fit time: {} (+/- {})'.format(cross_val['fit_time'].mean(), cross_val['fit_time'].std()))\n",
        "print('avg score time: {} (+/- {})'.format(cross_val['score_time'].mean(), cross_val['score_time'].std()))\n",
        "print('avg test score: {} (+/- {})'.format(cross_val['test_score'].mean(), cross_val['test_score'].std()))"
      ],
      "execution_count": 81,
      "outputs": [
        {
          "output_type": "stream",
          "text": [
            "avg fit time: 0.021157264709472656 (+/- 0.0012908942557112051)\n",
            "avg score time: 0.009592866897583008 (+/- 0.0008105402034488905)\n",
            "avg test score: 0.9607936507936508 (+/- 0.028521119729020605)\n"
          ],
          "name": "stdout"
        }
      ]
    },
    {
      "cell_type": "markdown",
      "metadata": {
        "id": "QcBrvj7Au39W"
      },
      "source": [
        "유방암 데이터"
      ]
    },
    {
      "cell_type": "code",
      "metadata": {
        "id": "FhoL-aqHu39W"
      },
      "source": [
        "base_model = make_pipeline(StandardScaler(),\n",
        "                          KNeighborsClassifier())\n",
        "bagging_model = BaggingClassifier(base_model, n_estimators=10, max_samples=0.5, max_features=0.5)"
      ],
      "execution_count": 82,
      "outputs": []
    },
    {
      "cell_type": "code",
      "metadata": {
        "colab": {
          "base_uri": "https://localhost:8080/"
        },
        "id": "BkubyY3cu39X",
        "outputId": "959a48c4-7243-429a-c903-1523f25c4c16"
      },
      "source": [
        "# 베이스 모델을 사용\n",
        "cross_val = cross_validate(\n",
        "    estimator = base_model,\n",
        "    X = cancer.data, y=cancer.target,\n",
        "    cv = 5)\n",
        "print('avg fit time: {} (+/- {})'.format(cross_val['fit_time'].mean(), cross_val['fit_time'].std()))\n",
        "print('avg score time: {} (+/- {})'.format(cross_val['score_time'].mean(), cross_val['score_time'].std()))\n",
        "print('avg test score: {} (+/- {})'.format(cross_val['test_score'].mean(), cross_val['test_score'].std()))"
      ],
      "execution_count": 83,
      "outputs": [
        {
          "output_type": "stream",
          "text": [
            "avg fit time: 0.0026851654052734374 (+/- 0.0008741134951872069)\n",
            "avg score time: 0.007773303985595703 (+/- 0.0007155842122188231)\n",
            "avg test score: 0.9648501785437045 (+/- 0.009609970350036127)\n"
          ],
          "name": "stdout"
        }
      ]
    },
    {
      "cell_type": "code",
      "metadata": {
        "colab": {
          "base_uri": "https://localhost:8080/"
        },
        "id": "doNlQeXXu39X",
        "outputId": "b7dacae9-f8b4-46b9-dfbd-82c95cb437d3"
      },
      "source": [
        "# 배깅 모델을 사용\n",
        "cross_val = cross_validate(\n",
        "    estimator = bagging_model,\n",
        "    X = cancer.data, y=cancer.target,\n",
        "    cv = 5)\n",
        "print('avg fit time: {} (+/- {})'.format(cross_val['fit_time'].mean(), cross_val['fit_time'].std()))\n",
        "print('avg score time: {} (+/- {})'.format(cross_val['score_time'].mean(), cross_val['score_time'].std()))\n",
        "print('avg test score: {} (+/- {})'.format(cross_val['test_score'].mean(), cross_val['test_score'].std()))"
      ],
      "execution_count": 84,
      "outputs": [
        {
          "output_type": "stream",
          "text": [
            "avg fit time: 0.02351102828979492 (+/- 0.0014416756386614262)\n",
            "avg score time: 0.01659402847290039 (+/- 0.0008680196808830881)\n",
            "avg test score: 0.9560627231796305 (+/- 0.014679067143704956)\n"
          ],
          "name": "stdout"
        }
      ]
    },
    {
      "cell_type": "markdown",
      "metadata": {
        "id": "xheqAD4su39Y"
      },
      "source": [
        "## SVC\n",
        "붓꽃 데이터"
      ]
    },
    {
      "cell_type": "code",
      "metadata": {
        "id": "AcAa2iwBu39Z"
      },
      "source": [
        "base_model = make_pipeline(\n",
        "    StandardScaler(),\n",
        "    SVC()  # base_model\n",
        "    ) \n",
        "bagging_model = BaggingClassifier(base_model, n_estimators=10, max_samples=0.5, max_features=0.5)"
      ],
      "execution_count": 85,
      "outputs": []
    },
    {
      "cell_type": "code",
      "metadata": {
        "colab": {
          "base_uri": "https://localhost:8080/"
        },
        "id": "3kzA7pvvu39Z",
        "outputId": "da131f3c-172e-47f7-8d9b-1f10b81a60d9"
      },
      "source": [
        "# 베이스 모델을 사용\n",
        "cross_val = cross_validate(\n",
        "    estimator = base_model,\n",
        "    X = iris.data, y = iris.target, \n",
        "    cv = 5)\n",
        "print('avg fit time: {} (+/- {})'.format(cross_val['fit_time'].mean(), cross_val['fit_time'].std()))\n",
        "print('avg score time: {} (+/- {})'.format(cross_val['score_time'].mean(), cross_val['score_time'].std()))\n",
        "print('avg test score: {} (+/- {})'.format(cross_val['test_score'].mean(), cross_val['test_score'].std()))"
      ],
      "execution_count": 86,
      "outputs": [
        {
          "output_type": "stream",
          "text": [
            "avg fit time: 0.003131723403930664 (+/- 0.001383031802086435)\n",
            "avg score time: 0.0008324146270751953 (+/- 0.0001539552488261428)\n",
            "avg test score: 0.9666666666666666 (+/- 0.02108185106778919)\n"
          ],
          "name": "stdout"
        }
      ]
    },
    {
      "cell_type": "code",
      "metadata": {
        "id": "EPoct2iDu39a",
        "colab": {
          "base_uri": "https://localhost:8080/"
        },
        "outputId": "60b2cba0-603d-4d6a-de29-dd83d94b8594"
      },
      "source": [
        "# 배깅 모델을 사용\n",
        "cross_val = cross_validate(\n",
        "    estimator = bagging_model,\n",
        "    X = iris.data, y=iris.target,\n",
        "    cv = 5)\n",
        "print('avg fit time: {} (+/- {})'.format(cross_val['fit_time'].mean(), cross_val['fit_time'].std()))\n",
        "print('avg score time: {} (+/- {})'.format(cross_val['score_time'].mean(), cross_val['score_time'].std()))\n",
        "print('avg test score: {} (+/- {})'.format(cross_val['test_score'].mean(), cross_val['test_score'].std()))"
      ],
      "execution_count": 87,
      "outputs": [
        {
          "output_type": "stream",
          "text": [
            "avg fit time: 0.0344174861907959 (+/- 0.005354803337402826)\n",
            "avg score time: 0.004334545135498047 (+/- 0.0009279673479509549)\n",
            "avg test score: 0.9533333333333334 (+/- 0.03399346342395189)\n"
          ],
          "name": "stdout"
        }
      ]
    },
    {
      "cell_type": "markdown",
      "metadata": {
        "id": "pZz0ozsOu39b"
      },
      "source": [
        "와인 데이터"
      ]
    },
    {
      "cell_type": "code",
      "metadata": {
        "id": "GaDdNggxu39b"
      },
      "source": [
        "base_model = make_pipeline(StandardScaler(),\n",
        "                          SVC())\n",
        "bagging_model = BaggingClassifier(base_model, n_estimators=10, max_samples=0.5, max_features=0.5)"
      ],
      "execution_count": 88,
      "outputs": []
    },
    {
      "cell_type": "code",
      "metadata": {
        "id": "BBLSMWvIu39b",
        "colab": {
          "base_uri": "https://localhost:8080/"
        },
        "outputId": "f7937e31-2851-4c2a-b669-786dd6357ccd"
      },
      "source": [
        "# 베이스 모델을 사용\n",
        "cross_val = cross_validate(\n",
        "    estimator = base_model,\n",
        "    X = wine.data, y = wine.target, \n",
        "    cv = 5)\n",
        "print('avg fit time: {} (+/- {})'.format(cross_val['fit_time'].mean(), cross_val['fit_time'].std()))\n",
        "print('avg score time: {} (+/- {})'.format(cross_val['score_time'].mean(), cross_val['score_time'].std()))\n",
        "print('avg test score: {} (+/- {})'.format(cross_val['test_score'].mean(), cross_val['test_score'].std()))"
      ],
      "execution_count": 89,
      "outputs": [
        {
          "output_type": "stream",
          "text": [
            "avg fit time: 0.0023375988006591798 (+/- 0.000597736434732994)\n",
            "avg score time: 0.0006340980529785156 (+/- 8.27985676533387e-05)\n",
            "avg test score: 0.9833333333333334 (+/- 0.022222222222222233)\n"
          ],
          "name": "stdout"
        }
      ]
    },
    {
      "cell_type": "code",
      "metadata": {
        "id": "fo-LPLnOu39c",
        "colab": {
          "base_uri": "https://localhost:8080/"
        },
        "outputId": "0f994a0c-a733-4229-e090-f9519827a9dc"
      },
      "source": [
        "# 배깅 모델을 사용\n",
        "cross_val = cross_validate(\n",
        "    estimator = bagging_model,\n",
        "    X = wine.data, y=wine.target,\n",
        "    cv = 5)\n",
        "print('avg fit time: {} (+/- {})'.format(cross_val['fit_time'].mean(), cross_val['fit_time'].std()))\n",
        "print('avg score time: {} (+/- {})'.format(cross_val['score_time'].mean(), cross_val['score_time'].std()))\n",
        "print('avg test score: {} (+/- {})'.format(cross_val['test_score'].mean(), cross_val['test_score'].std()))"
      ],
      "execution_count": 90,
      "outputs": [
        {
          "output_type": "stream",
          "text": [
            "avg fit time: 0.03483781814575195 (+/- 0.004502545299674488)\n",
            "avg score time: 0.0051787376403808595 (+/- 0.0008245974274128132)\n",
            "avg test score: 0.9438095238095239 (+/- 0.017585410476517578)\n"
          ],
          "name": "stdout"
        }
      ]
    },
    {
      "cell_type": "markdown",
      "metadata": {
        "id": "vUorg_1Gu39c"
      },
      "source": [
        "유방암 데이터"
      ]
    },
    {
      "cell_type": "code",
      "metadata": {
        "id": "QjymK9xtu39c"
      },
      "source": [
        "base_model = make_pipeline(StandardScaler(),\n",
        "                          SVC())\n",
        "bagging_model = BaggingClassifier(base_model, n_estimators=10, max_samples=0.5, max_features=0.5)"
      ],
      "execution_count": 91,
      "outputs": []
    },
    {
      "cell_type": "code",
      "metadata": {
        "id": "4grOLjrpu39d",
        "colab": {
          "base_uri": "https://localhost:8080/"
        },
        "outputId": "5fbc451b-cd1b-45a8-b210-9ab1e3b17a16"
      },
      "source": [
        "# 베이스 모델을 사용\n",
        "cross_val = cross_validate(\n",
        "    estimator = base_model,\n",
        "    X = cancer.data, y=cancer.target,\n",
        "    cv = 5)\n",
        "print('avg fit time: {} (+/- {})'.format(cross_val['fit_time'].mean(), cross_val['fit_time'].std()))\n",
        "print('avg score time: {} (+/- {})'.format(cross_val['score_time'].mean(), cross_val['score_time'].std()))\n",
        "print('avg test score: {} (+/- {})'.format(cross_val['test_score'].mean(), cross_val['test_score'].std()))"
      ],
      "execution_count": 92,
      "outputs": [
        {
          "output_type": "stream",
          "text": [
            "avg fit time: 0.006696319580078125 (+/- 0.002563269324206613)\n",
            "avg score time: 0.0013887405395507813 (+/- 0.00032461504780635967)\n",
            "avg test score: 0.9736376339077782 (+/- 0.014678541667933545)\n"
          ],
          "name": "stdout"
        }
      ]
    },
    {
      "cell_type": "code",
      "metadata": {
        "id": "3nn7_5xqu39d",
        "colab": {
          "base_uri": "https://localhost:8080/"
        },
        "outputId": "dabfdd33-5257-4963-ac57-e17b9ef6ba76"
      },
      "source": [
        "# 배깅 모델을 사용\n",
        "cross_val = cross_validate(\n",
        "    estimator = bagging_model,\n",
        "    X = cancer.data, y=cancer.target,\n",
        "    cv = 5)\n",
        "print('avg fit time: {} (+/- {})'.format(cross_val['fit_time'].mean(), cross_val['fit_time'].std()))\n",
        "print('avg score time: {} (+/- {})'.format(cross_val['score_time'].mean(), cross_val['score_time'].std()))\n",
        "print('avg test score: {} (+/- {})'.format(cross_val['test_score'].mean(), cross_val['test_score'].std()))"
      ],
      "execution_count": 93,
      "outputs": [
        {
          "output_type": "stream",
          "text": [
            "avg fit time: 0.04433259963989258 (+/- 0.00587829055046386)\n",
            "avg score time: 0.007832574844360351 (+/- 0.000781353803556742)\n",
            "avg test score: 0.9613569321533924 (+/- 0.01623457791867057)\n"
          ],
          "name": "stdout"
        }
      ]
    },
    {
      "cell_type": "markdown",
      "metadata": {
        "id": "P5gQ7lOiu39d"
      },
      "source": [
        "## Decision Tree\n",
        "붓꽃 데이터"
      ]
    },
    {
      "cell_type": "code",
      "metadata": {
        "id": "_bbZDatvu39e"
      },
      "source": [
        "base_model = make_pipeline(StandardScaler(),\n",
        "                          DecisionTreeClassifier())\n",
        "bagging_model = BaggingClassifier(base_model, n_estimators=10, max_samples=0.5, max_features=0.5)"
      ],
      "execution_count": 94,
      "outputs": []
    },
    {
      "cell_type": "code",
      "metadata": {
        "colab": {
          "base_uri": "https://localhost:8080/"
        },
        "id": "1RFGMg8Cu39e",
        "outputId": "6861957d-8e69-4724-ac1c-4299ff9da751"
      },
      "source": [
        "# 베이스 모델을 사용\n",
        "cross_val = cross_validate(\n",
        "    estimator = base_model,\n",
        "    X = iris.data, y=iris.target,\n",
        "    cv = 5)\n",
        "print('avg fit time: {} (+/- {})'.format(cross_val['fit_time'].mean(), cross_val['fit_time'].std()))\n",
        "print('avg score time: {} (+/- {})'.format(cross_val['score_time'].mean(), cross_val['score_time'].std()))\n",
        "print('avg test score: {} (+/- {})'.format(cross_val['test_score'].mean(), cross_val['test_score'].std()))"
      ],
      "execution_count": 95,
      "outputs": [
        {
          "output_type": "stream",
          "text": [
            "avg fit time: 0.0018742084503173828 (+/- 0.00046117467901657437)\n",
            "avg score time: 0.0006771087646484375 (+/- 0.00018839280345484596)\n",
            "avg test score: 0.9533333333333334 (+/- 0.03399346342395189)\n"
          ],
          "name": "stdout"
        }
      ]
    },
    {
      "cell_type": "code",
      "metadata": {
        "id": "MF0Ys42Nu39e",
        "colab": {
          "base_uri": "https://localhost:8080/"
        },
        "outputId": "db4d0ed4-b443-4b2e-d065-96648acd801c"
      },
      "source": [
        "# 배깅 모델 사용\n",
        "cross_val = cross_validate(\n",
        "    estimator = bagging_model,\n",
        "    X = iris.data, y=iris.target,\n",
        "    cv = 5)\n",
        "print('avg fit time: {} (+/- {})'.format(cross_val['fit_time'].mean(), cross_val['fit_time'].std()))\n",
        "print('avg score time: {} (+/- {})'.format(cross_val['score_time'].mean(), cross_val['score_time'].std()))\n",
        "print('avg test score: {} (+/- {})'.format(cross_val['test_score'].mean(), cross_val['test_score'].std()))"
      ],
      "execution_count": 96,
      "outputs": [
        {
          "output_type": "stream",
          "text": [
            "avg fit time: 0.03133902549743652 (+/- 0.0026385820001336704)\n",
            "avg score time: 0.003690767288208008 (+/- 0.0011508840181777742)\n",
            "avg test score: 0.9333333333333332 (+/- 0.059628479399994376)\n"
          ],
          "name": "stdout"
        }
      ]
    },
    {
      "cell_type": "markdown",
      "metadata": {
        "id": "XfWibqUMu39f"
      },
      "source": [
        "와인 데이터"
      ]
    },
    {
      "cell_type": "code",
      "metadata": {
        "id": "AhCia9_mu39f"
      },
      "source": [
        "base_model = make_pipeline(StandardScaler(),\n",
        "                          DecisionTreeClassifier())\n",
        "bagging_model = BaggingClassifier(base_model, n_estimators=10, max_samples=0.5, max_features=0.5)"
      ],
      "execution_count": 97,
      "outputs": []
    },
    {
      "cell_type": "code",
      "metadata": {
        "id": "IhAkfRW2u39f",
        "colab": {
          "base_uri": "https://localhost:8080/"
        },
        "outputId": "c31dc4f1-cd46-4f22-d1f5-883671e488f9"
      },
      "source": [
        "# 베이스 모델을 사용\n",
        "cross_val = cross_validate(\n",
        "    estimator = base_model,\n",
        "    X = wine.data, y=wine.target,\n",
        "    cv = 5)\n",
        "print('avg fit time: {} (+/- {})'.format(cross_val['fit_time'].mean(), cross_val['fit_time'].std()))\n",
        "print('avg score time: {} (+/- {})'.format(cross_val['score_time'].mean(), cross_val['score_time'].std()))\n",
        "print('avg test score: {} (+/- {})'.format(cross_val['test_score'].mean(), cross_val['test_score'].std()))"
      ],
      "execution_count": 98,
      "outputs": [
        {
          "output_type": "stream",
          "text": [
            "avg fit time: 0.001921367645263672 (+/- 0.0006149941951666092)\n",
            "avg score time: 0.0005034446716308594 (+/- 5.2546199984374426e-05)\n",
            "avg test score: 0.8931746031746032 (+/- 0.0541816509305139)\n"
          ],
          "name": "stdout"
        }
      ]
    },
    {
      "cell_type": "code",
      "metadata": {
        "id": "GfRTooLuu39g",
        "colab": {
          "base_uri": "https://localhost:8080/"
        },
        "outputId": "4ab4d396-08c4-4ba9-e812-f0a805a04f94"
      },
      "source": [
        "# 배깅 모델 사용\n",
        "cross_val = cross_validate(\n",
        "    estimator = bagging_model,\n",
        "    X = wine.data, y=wine.target,\n",
        "    cv = 5)\n",
        "print('avg fit time: {} (+/- {})'.format(cross_val['fit_time'].mean(), cross_val['fit_time'].std()))\n",
        "print('avg score time: {} (+/- {})'.format(cross_val['score_time'].mean(), cross_val['score_time'].std()))\n",
        "print('avg test score: {} (+/- {})'.format(cross_val['test_score'].mean(), cross_val['test_score'].std()))"
      ],
      "execution_count": 99,
      "outputs": [
        {
          "output_type": "stream",
          "text": [
            "avg fit time: 0.03230586051940918 (+/- 0.003994720354501961)\n",
            "avg score time: 0.0036556243896484373 (+/- 0.0009232293619601969)\n",
            "avg test score: 0.9555555555555555 (+/- 0.062360956446232345)\n"
          ],
          "name": "stdout"
        }
      ]
    },
    {
      "cell_type": "markdown",
      "metadata": {
        "id": "6NVCsW-au39g"
      },
      "source": [
        "유방암 데이터"
      ]
    },
    {
      "cell_type": "code",
      "metadata": {
        "id": "klYOijs8u39h"
      },
      "source": [
        "base_model = make_pipeline(StandardScaler(),\n",
        "                          DecisionTreeClassifier())\n",
        "bagging_model = BaggingClassifier(base_model, n_estimators=10, max_samples=0.5, max_features=0.5)"
      ],
      "execution_count": 100,
      "outputs": []
    },
    {
      "cell_type": "code",
      "metadata": {
        "id": "25RZExd-u39h",
        "colab": {
          "base_uri": "https://localhost:8080/"
        },
        "outputId": "6d2d5768-4f11-407f-ec06-d91c5062ff8b"
      },
      "source": [
        "# 베이스 모델을 사용\n",
        "cross_val = cross_validate(\n",
        "    estimator = base_model,\n",
        "    X = cancer.data, y=cancer.target,\n",
        "    cv = 5)\n",
        "print('avg fit time: {} (+/- {})'.format(cross_val['fit_time'].mean(), cross_val['fit_time'].std()))\n",
        "print('avg score time: {} (+/- {})'.format(cross_val['score_time'].mean(), cross_val['score_time'].std()))\n",
        "print('avg test score: {} (+/- {})'.format(cross_val['test_score'].mean(), cross_val['test_score'].std()))"
      ],
      "execution_count": 101,
      "outputs": [
        {
          "output_type": "stream",
          "text": [
            "avg fit time: 0.010716104507446289 (+/- 0.005244412308829611)\n",
            "avg score time: 0.0007656574249267578 (+/- 8.937353144736826e-05)\n",
            "avg test score: 0.9138177301661233 (+/- 0.02143404052739964)\n"
          ],
          "name": "stdout"
        }
      ]
    },
    {
      "cell_type": "code",
      "metadata": {
        "id": "e6dZiLH0u39i",
        "colab": {
          "base_uri": "https://localhost:8080/"
        },
        "outputId": "69a55e26-0ad9-4d4e-ca02-ff53d1b2dcf5"
      },
      "source": [
        "# 배깅 모델 사용\n",
        "cross_val = cross_validate(\n",
        "    estimator = bagging_model,\n",
        "    X = cancer.data, y=cancer.target,\n",
        "    cv = 5)\n",
        "print('avg fit time: {} (+/- {})'.format(cross_val['fit_time'].mean(), cross_val['fit_time'].std()))\n",
        "print('avg score time: {} (+/- {})'.format(cross_val['score_time'].mean(), cross_val['score_time'].std()))\n",
        "print('avg test score: {} (+/- {})'.format(cross_val['test_score'].mean(), cross_val['test_score'].std()))"
      ],
      "execution_count": 102,
      "outputs": [
        {
          "output_type": "stream",
          "text": [
            "avg fit time: 0.04514164924621582 (+/- 0.006055959547004355)\n",
            "avg score time: 0.00399932861328125 (+/- 0.0013746366481267069)\n",
            "avg test score: 0.9507840397453812 (+/- 0.01629064906082428)\n"
          ],
          "name": "stdout"
        }
      ]
    },
    {
      "cell_type": "markdown",
      "metadata": {
        "id": "Hl1Lc5-5u39i"
      },
      "source": [
        "## Bagging을 사용한 회귀\n",
        "### 데이터셋 불러오기"
      ]
    },
    {
      "cell_type": "code",
      "metadata": {
        "id": "tC5Vd_iAu39j"
      },
      "source": [
        "boston = load_boston()\n",
        "diabetes = load_diabetes()"
      ],
      "execution_count": 103,
      "outputs": []
    },
    {
      "cell_type": "markdown",
      "metadata": {
        "id": "1WvOeoMsu39j"
      },
      "source": [
        "## KNN\n",
        "### 보스턴 주택 가격 데이터"
      ]
    },
    {
      "cell_type": "code",
      "metadata": {
        "id": "UVp7iZ3pu39k"
      },
      "source": [
        "base_model = make_pipeline(StandardScaler(),\n",
        "                          KNeighborsRegressor())\n",
        "bagging_model = BaggingRegressor(base_model, n_estimators=10, max_samples=0.5, max_features=0.5)"
      ],
      "execution_count": 104,
      "outputs": []
    },
    {
      "cell_type": "code",
      "metadata": {
        "id": "f7U02gOru39k",
        "colab": {
          "base_uri": "https://localhost:8080/"
        },
        "outputId": "c45aae40-320f-4b18-90b5-f4b00091ae81"
      },
      "source": [
        "# 베이스 모델을 사용\n",
        "cross_val = cross_validate(\n",
        "    estimator = base_model,\n",
        "    X = boston.data, y=boston.target,\n",
        "    cv = 5)\n",
        "print('avg fit time: {} (+/- {})'.format(cross_val['fit_time'].mean(), cross_val['fit_time'].std()))\n",
        "print('avg score time: {} (+/- {})'.format(cross_val['score_time'].mean(), cross_val['score_time'].std()))\n",
        "print('avg test score: {} (+/- {})'.format(cross_val['test_score'].mean(), cross_val['test_score'].std()))"
      ],
      "execution_count": 105,
      "outputs": [
        {
          "output_type": "stream",
          "text": [
            "avg fit time: 0.003117656707763672 (+/- 0.002708305837678289)\n",
            "avg score time: 0.0025036811828613283 (+/- 0.0011887776184844258)\n",
            "avg test score: 0.47357748833823543 (+/- 0.13243123464477455)\n"
          ],
          "name": "stdout"
        }
      ]
    },
    {
      "cell_type": "code",
      "metadata": {
        "id": "dwPUeST9u39l",
        "colab": {
          "base_uri": "https://localhost:8080/"
        },
        "outputId": "7f0918e9-fdc8-4c4d-b8ea-07ca8cb57399"
      },
      "source": [
        "# 배깅 모델을 사용\n",
        "cross_val = cross_validate(\n",
        "    estimator = bagging_model,\n",
        "    X = boston.data, y=boston.target,\n",
        "    cv = 5)\n",
        "print('avg fit time: {} (+/- {})'.format(cross_val['fit_time'].mean(), cross_val['fit_time'].std()))\n",
        "print('avg score time: {} (+/- {})'.format(cross_val['score_time'].mean(), cross_val['score_time'].std()))\n",
        "print('avg test score: {} (+/- {})'.format(cross_val['test_score'].mean(), cross_val['test_score'].std()))"
      ],
      "execution_count": 106,
      "outputs": [
        {
          "output_type": "stream",
          "text": [
            "avg fit time: 0.024677228927612305 (+/- 0.004138462620674289)\n",
            "avg score time: 0.010866165161132812 (+/- 0.00015090573962548367)\n",
            "avg test score: 0.4954898218911324 (+/- 0.10307884551724632)\n"
          ],
          "name": "stdout"
        }
      ]
    },
    {
      "cell_type": "markdown",
      "metadata": {
        "id": "ceUb7DIJu39l"
      },
      "source": [
        "### 당뇨병 데이터"
      ]
    },
    {
      "cell_type": "code",
      "metadata": {
        "id": "VHec9iE6u39l"
      },
      "source": [
        "base_model = make_pipeline(StandardScaler(),\n",
        "                          KNeighborsRegressor())\n",
        "bagging_model = BaggingRegressor(base_model, n_estimators=10, max_samples=0.5, max_features=0.5)"
      ],
      "execution_count": 107,
      "outputs": []
    },
    {
      "cell_type": "code",
      "metadata": {
        "id": "91UOwPB4u39m",
        "colab": {
          "base_uri": "https://localhost:8080/"
        },
        "outputId": "eeb0e574-604c-4da9-f7f8-1bf591563c91"
      },
      "source": [
        "# 베이스 모델을 사용\n",
        "cross_val = cross_validate(\n",
        "    estimator = base_model,\n",
        "    X = diabetes.data, y=diabetes.target,\n",
        "    cv = 5)\n",
        "print('avg fit time: {} (+/- {})'.format(cross_val['fit_time'].mean(), cross_val['fit_time'].std()))\n",
        "print('avg score time: {} (+/- {})'.format(cross_val['score_time'].mean(), cross_val['score_time'].std()))\n",
        "print('avg test score: {} (+/- {})'.format(cross_val['test_score'].mean(), cross_val['test_score'].std()))"
      ],
      "execution_count": 108,
      "outputs": [
        {
          "output_type": "stream",
          "text": [
            "avg fit time: 0.0019495010375976563 (+/- 0.0006151086303500321)\n",
            "avg score time: 0.002288341522216797 (+/- 0.000610137413871883)\n",
            "avg test score: 0.3689720650295623 (+/- 0.044659049060165365)\n"
          ],
          "name": "stdout"
        }
      ]
    },
    {
      "cell_type": "code",
      "metadata": {
        "id": "nLXq9Crvu39m",
        "colab": {
          "base_uri": "https://localhost:8080/"
        },
        "outputId": "97259f07-3087-4c69-ea77-ce1ca7ef77e8"
      },
      "source": [
        "# 배깅 모델을 사용\n",
        "cross_val = cross_validate(\n",
        "    estimator = bagging_model,\n",
        "    X = diabetes.data, y=diabetes.target,\n",
        "    cv = 5)\n",
        "print('avg fit time: {} (+/- {})'.format(cross_val['fit_time'].mean(), cross_val['fit_time'].std()))\n",
        "print('avg score time: {} (+/- {})'.format(cross_val['score_time'].mean(), cross_val['score_time'].std()))\n",
        "print('avg test score: {} (+/- {})'.format(cross_val['test_score'].mean(), cross_val['test_score'].std()))"
      ],
      "execution_count": 109,
      "outputs": [
        {
          "output_type": "stream",
          "text": [
            "avg fit time: 0.023909759521484376 (+/- 0.0018947412663379416)\n",
            "avg score time: 0.012582778930664062 (+/- 0.0022000847666970285)\n",
            "avg test score: 0.38947113072715805 (+/- 0.06677061173215378)\n"
          ],
          "name": "stdout"
        }
      ]
    },
    {
      "cell_type": "markdown",
      "metadata": {
        "id": "b4m-r66Gu39m"
      },
      "source": [
        "## SVR\n",
        "### 보스턴 주택 가격 데이터"
      ]
    },
    {
      "cell_type": "code",
      "metadata": {
        "id": "V0m0N-rgu39n"
      },
      "source": [
        "# SVR을 사용 -> base_model과 bagging_model\n",
        "base_model = make_pipeline(StandardScaler(),\n",
        "                          SVR())\n",
        "bagging_model = BaggingRegressor(base_model, n_estimators=10, max_samples=0.5, max_features=0.5)"
      ],
      "execution_count": 110,
      "outputs": []
    },
    {
      "cell_type": "code",
      "metadata": {
        "id": "3KfzTMGSu39n",
        "colab": {
          "base_uri": "https://localhost:8080/"
        },
        "outputId": "3f1351f4-d806-439a-8927-fde3b6293696"
      },
      "source": [
        "# 베이스 모델을 사용\n",
        "cross_val = cross_validate(\n",
        "    estimator = base_model,\n",
        "    X = boston.data, y=boston.target,\n",
        "    cv = 5)\n",
        "print('avg fit time: {} (+/- {})'.format(cross_val['fit_time'].mean(), cross_val['fit_time'].std()))\n",
        "print('avg score time: {} (+/- {})'.format(cross_val['score_time'].mean(), cross_val['score_time'].std()))\n",
        "print('avg test score: {} (+/- {})'.format(cross_val['test_score'].mean(), cross_val['test_score'].std()))"
      ],
      "execution_count": 111,
      "outputs": [
        {
          "output_type": "stream",
          "text": [
            "avg fit time: 0.014416265487670898 (+/- 0.0014008772314966372)\n",
            "avg score time: 0.0024796485900878905 (+/- 5.7916304394028096e-05)\n",
            "avg test score: 0.17631266230186618 (+/- 0.5224914915128981)\n"
          ],
          "name": "stdout"
        }
      ]
    },
    {
      "cell_type": "code",
      "metadata": {
        "id": "OVCNbijcu39n",
        "colab": {
          "base_uri": "https://localhost:8080/"
        },
        "outputId": "054db56c-8376-4034-b3c3-b0e481364765"
      },
      "source": [
        "# 배깅 모델을 사용\n",
        "cross_val = cross_validate(\n",
        "    estimator = bagging_model,\n",
        "    X = boston.data, y=boston.target,\n",
        "    cv = 5)\n",
        "print('avg fit time: {} (+/- {})'.format(cross_val['fit_time'].mean(), cross_val['fit_time'].std()))\n",
        "print('avg score time: {} (+/- {})'.format(cross_val['score_time'].mean(), cross_val['score_time'].std()))\n",
        "print('avg test score: {} (+/- {})'.format(cross_val['test_score'].mean(), cross_val['test_score'].std()))"
      ],
      "execution_count": 112,
      "outputs": [
        {
          "output_type": "stream",
          "text": [
            "avg fit time: 0.053387117385864255 (+/- 0.0047795152493660805)\n",
            "avg score time: 0.011536645889282226 (+/- 0.003469526745592342)\n",
            "avg test score: 0.1981409145699493 (+/- 0.24606349749824044)\n"
          ],
          "name": "stdout"
        }
      ]
    },
    {
      "cell_type": "markdown",
      "metadata": {
        "id": "DJcZJrXIu39o"
      },
      "source": [
        "### 당뇨병 데이터"
      ]
    },
    {
      "cell_type": "code",
      "metadata": {
        "id": "_isg3hrku39o"
      },
      "source": [
        "base_model = make_pipeline(StandardScaler(),\n",
        "                          SVR())\n",
        "bagging_model = BaggingRegressor(base_model, n_estimators=10, max_samples=0.5, max_features=0.5)"
      ],
      "execution_count": 113,
      "outputs": []
    },
    {
      "cell_type": "code",
      "metadata": {
        "id": "l0DpqPyFu39p",
        "colab": {
          "base_uri": "https://localhost:8080/"
        },
        "outputId": "0dcb043e-1a53-4901-f923-4a8dab30f262"
      },
      "source": [
        "# 베이스 모델을 사용\n",
        "cross_val = cross_validate(\n",
        "    estimator = base_model,\n",
        "    X = diabetes.data, y=diabetes.target,\n",
        "    cv = 5)\n",
        "print('avg fit time: {} (+/- {})'.format(cross_val['fit_time'].mean(), cross_val['fit_time'].std()))\n",
        "print('avg score time: {} (+/- {})'.format(cross_val['score_time'].mean(), cross_val['score_time'].std()))\n",
        "print('avg test score: {} (+/- {})'.format(cross_val['test_score'].mean(), cross_val['test_score'].std()))"
      ],
      "execution_count": 114,
      "outputs": [
        {
          "output_type": "stream",
          "text": [
            "avg fit time: 0.010633754730224609 (+/- 0.002514669187823867)\n",
            "avg score time: 0.00202794075012207 (+/- 3.934683867444042e-05)\n",
            "avg test score: 0.14659936199629434 (+/- 0.02190798003342928)\n"
          ],
          "name": "stdout"
        }
      ]
    },
    {
      "cell_type": "code",
      "metadata": {
        "id": "sUwGw15nu39p",
        "colab": {
          "base_uri": "https://localhost:8080/"
        },
        "outputId": "56017b8c-19df-4c78-ebf7-bb28cd46992a"
      },
      "source": [
        "# 배깅 모델을 사용\n",
        "cross_val = cross_validate(\n",
        "    estimator = bagging_model,\n",
        "    X = diabetes.data, y=diabetes.target,\n",
        "    cv = 5)\n",
        "print('avg fit time: {} (+/- {})'.format(cross_val['fit_time'].mean(), cross_val['fit_time'].std()))\n",
        "print('avg score time: {} (+/- {})'.format(cross_val['score_time'].mean(), cross_val['score_time'].std()))\n",
        "print('avg test score: {} (+/- {})'.format(cross_val['test_score'].mean(), cross_val['test_score'].std()))"
      ],
      "execution_count": 115,
      "outputs": [
        {
          "output_type": "stream",
          "text": [
            "avg fit time: 0.0453528881072998 (+/- 0.005262838331487031)\n",
            "avg score time: 0.008784627914428711 (+/- 0.0013509674982913242)\n",
            "avg test score: 0.05884252988871217 (+/- 0.0363609991361921)\n"
          ],
          "name": "stdout"
        }
      ]
    },
    {
      "cell_type": "markdown",
      "metadata": {
        "id": "kqV1Q5PPu39p"
      },
      "source": [
        "## Random Forest\n",
        "* sklearn.ensemble 모듈에는 무작위 결정 트리를 기반으로하는 두 개의 평균화 알고리즘이 존재\n",
        "    + Random Forest"
      ]
    },
    {
      "cell_type": "code",
      "metadata": {
        "id": "9_z0C1DZu39q"
      },
      "source": [
        "from sklearn.ensemble import RandomForestClassifier, ExtraTreesClassifier\n",
        "from sklearn.ensemble import RandomForestRegressor, ExtraTreesRegressor"
      ],
      "execution_count": 116,
      "outputs": []
    },
    {
      "cell_type": "markdown",
      "metadata": {
        "id": "c-pZKgHOu39q"
      },
      "source": [
        "## Random Forest 분류"
      ]
    },
    {
      "cell_type": "code",
      "metadata": {
        "id": "1fg1xAmKu39r"
      },
      "source": [
        "base_model = make_pipeline(StandardScaler(),\n",
        "                          RandomForestClassifier())"
      ],
      "execution_count": 117,
      "outputs": []
    },
    {
      "cell_type": "code",
      "metadata": {
        "id": "dLpkheKeu39r",
        "colab": {
          "base_uri": "https://localhost:8080/"
        },
        "outputId": "b3019b90-d287-4b15-9220-fce6b6e0884b"
      },
      "source": [
        "# 랜덤포레스트 모델과 붓꽃 데이터(iris)를 이용 -> avg fit time, avg score time, avg test score\n",
        "cross_val = cross_validate(\n",
        "    estimator = base_model,\n",
        "    X = iris.data, y=iris.target,\n",
        "    cv = 5)\n",
        "print('avg fit time: {} (+/- {})'.format(cross_val['fit_time'].mean(), cross_val['fit_time'].std()))\n",
        "print('avg score time: {} (+/- {})'.format(cross_val['score_time'].mean(), cross_val['score_time'].std()))\n",
        "print('avg test score: {} (+/- {})'.format(cross_val['test_score'].mean(), cross_val['test_score'].std()))"
      ],
      "execution_count": 118,
      "outputs": [
        {
          "output_type": "stream",
          "text": [
            "avg fit time: 0.1508817195892334 (+/- 0.00223855951874184)\n",
            "avg score time: 0.012100696563720703 (+/- 0.0017355067557496273)\n",
            "avg test score: 0.96 (+/- 0.024944382578492935)\n"
          ],
          "name": "stdout"
        }
      ]
    },
    {
      "cell_type": "code",
      "metadata": {
        "id": "jDcauzKgu39r",
        "colab": {
          "base_uri": "https://localhost:8080/"
        },
        "outputId": "f7ac95b8-5668-4dcc-b41e-6f5e2e933558"
      },
      "source": [
        "# 랜덤포레스트 모델과 와인 데이터(wine)를 이용 -> avg fit time, avg score time, avg test score\n",
        "cross_val = cross_validate(\n",
        "    estimator = base_model,\n",
        "    X = wine.data, y=wine.target,\n",
        "    cv = 5)\n",
        "print('avg fit time: {} (+/- {})'.format(cross_val['fit_time'].mean(), cross_val['fit_time'].std()))\n",
        "print('avg score time: {} (+/- {})'.format(cross_val['score_time'].mean(), cross_val['score_time'].std()))\n",
        "print('avg test score: {} (+/- {})'.format(cross_val['test_score'].mean(), cross_val['test_score'].std()))"
      ],
      "execution_count": 119,
      "outputs": [
        {
          "output_type": "stream",
          "text": [
            "avg fit time: 0.15858287811279298 (+/- 0.006185892730050359)\n",
            "avg score time: 0.011793041229248047 (+/- 0.00039779888357476467)\n",
            "avg test score: 0.9833333333333332 (+/- 0.022222222222222233)\n"
          ],
          "name": "stdout"
        }
      ]
    },
    {
      "cell_type": "code",
      "metadata": {
        "id": "igGrNRD2u39s",
        "colab": {
          "base_uri": "https://localhost:8080/"
        },
        "outputId": "3766d777-7b22-4da3-96e9-a957f32089e2"
      },
      "source": [
        "# 랜덤포레스트 모델과 유방암 데이터(cancer)를 이용 -> avg fit time, avg score time, avg test score\n",
        "cross_val = cross_validate(\n",
        "    estimator = base_model,\n",
        "    X = cancer.data, y=cancer.target,\n",
        "    cv = 5)\n",
        "print('avg fit time: {} (+/- {})'.format(cross_val['fit_time'].mean(), cross_val['fit_time'].std()))\n",
        "print('avg score time: {} (+/- {})'.format(cross_val['score_time'].mean(), cross_val['score_time'].std()))\n",
        "print('avg test score: {} (+/- {})'.format(cross_val['test_score'].mean(), cross_val['test_score'].std()))"
      ],
      "execution_count": 120,
      "outputs": [
        {
          "output_type": "stream",
          "text": [
            "avg fit time: 0.21268105506896973 (+/- 0.004266657599897011)\n",
            "avg score time: 0.012877607345581054 (+/- 0.00125532872060932)\n",
            "avg test score: 0.95960254618848 (+/- 0.022574935272912117)\n"
          ],
          "name": "stdout"
        }
      ]
    },
    {
      "cell_type": "markdown",
      "metadata": {
        "id": "AnelkBILu39t"
      },
      "source": [
        "## Random Forest 회귀"
      ]
    },
    {
      "cell_type": "code",
      "metadata": {
        "id": "enn9PhJNu39t"
      },
      "source": [
        "model = make_pipeline(\n",
        "StandardScaler(),\n",
        "RandomForestRegressor())"
      ],
      "execution_count": 121,
      "outputs": []
    },
    {
      "cell_type": "code",
      "metadata": {
        "id": "G76bFu47u39t",
        "colab": {
          "base_uri": "https://localhost:8080/"
        },
        "outputId": "5885c01c-1025-4c42-fdfb-fcdfb0625bd6"
      },
      "source": [
        "cross_val = cross_validate(\n",
        "    estimator = model,\n",
        "    X = boston.data, y=boston.target,\n",
        "    cv = 5)\n",
        "print('avg fit time: {} (+/- {})'.format(cross_val['fit_time'].mean(), cross_val['fit_time'].std()))\n",
        "print('avg score time: {} (+/- {})'.format(cross_val['score_time'].mean(), cross_val['score_time'].std()))\n",
        "print('avg test score: {} (+/- {})'.format(cross_val['test_score'].mean(), cross_val['test_score'].std()))"
      ],
      "execution_count": 122,
      "outputs": [
        {
          "output_type": "stream",
          "text": [
            "avg fit time: 0.30938029289245605 (+/- 0.008355160923423768)\n",
            "avg score time: 0.010416698455810548 (+/- 0.00012028716117641036)\n",
            "avg test score: 0.6221244060985249 (+/- 0.22105709808959323)\n"
          ],
          "name": "stdout"
        }
      ]
    },
    {
      "cell_type": "code",
      "metadata": {
        "id": "ZSkh0PsAu39u",
        "colab": {
          "base_uri": "https://localhost:8080/"
        },
        "outputId": "dee746ab-a3e4-4ec1-e998-440546db21cc"
      },
      "source": [
        "cross_val = cross_validate(\n",
        "    estimator = model,\n",
        "    X = diabetes.data, y=diabetes.target,\n",
        "    cv = 5)\n",
        "print('avg fit time: {} (+/- {})'.format(cross_val['fit_time'].mean(), cross_val['fit_time'].std()))\n",
        "print('avg score time: {} (+/- {})'.format(cross_val['score_time'].mean(), cross_val['score_time'].std()))\n",
        "print('avg test score: {} (+/- {})'.format(cross_val['test_score'].mean(), cross_val['test_score'].std()))"
      ],
      "execution_count": 123,
      "outputs": [
        {
          "output_type": "stream",
          "text": [
            "avg fit time: 0.26178760528564454 (+/- 0.006152511540626241)\n",
            "avg score time: 0.012453365325927734 (+/- 0.0013799053206812334)\n",
            "avg test score: 0.41080155808411767 (+/- 0.048991238403201354)\n"
          ],
          "name": "stdout"
        }
      ]
    },
    {
      "cell_type": "markdown",
      "metadata": {
        "id": "sXabqy6_u39u"
      },
      "source": [
        "## AdaBoost\n",
        "* 대표적인 부스팅 알고리즘\n",
        "* 일련의 약한 모델들을 학습\n",
        "* 수정된 버전의 데이터를 반복 학습(가중치가 적용된)\n",
        "* 가중치 투표(또는 합)을 통해 각 모델의 예측 값을 결합\n",
        "* 첫 단계에서는 원본 데이터를 학습하고 연속적인 반복마다 개별 샘플에 대한 가중치가 수정되고 다시 모델이 학습\n",
        "    + 잘못 예측된 샘플은 가중치 증가, 올바르게 예측된 샘플은 가중치 감소\n",
        "    + 각각의 약한 모델들은 예측하기 어려운 샘플에 집중하게 됨"
      ]
    },
    {
      "cell_type": "markdown",
      "metadata": {
        "id": "H4d_AhD2u39v"
      },
      "source": [
        "![AdaBoost](https://scikit-learn.org/stable/_images/sphx_glr_plot_adaboost_hastie_10_2_0011.png)"
      ]
    },
    {
      "cell_type": "code",
      "metadata": {
        "id": "3UFXEwwtu39v"
      },
      "source": [
        "from sklearn.ensemble import AdaBoostClassifier\n",
        "from sklearn.ensemble import AdaBoostRegressor"
      ],
      "execution_count": 124,
      "outputs": []
    },
    {
      "cell_type": "markdown",
      "metadata": {
        "id": "ifBPidTzu39v"
      },
      "source": [
        "## AdaBoost 분류"
      ]
    },
    {
      "cell_type": "code",
      "metadata": {
        "id": "MoBPfQpiu39y"
      },
      "source": [
        "model = make_pipeline(\n",
        "StandardScaler(),\n",
        "AdaBoostClassifier())"
      ],
      "execution_count": 125,
      "outputs": []
    },
    {
      "cell_type": "code",
      "metadata": {
        "id": "Skp_UJTfu39z",
        "colab": {
          "base_uri": "https://localhost:8080/"
        },
        "outputId": "ee25d134-f80d-4087-89c6-4a4251734446"
      },
      "source": [
        "cross_val = cross_validate(\n",
        "    estimator = model,\n",
        "    X = iris.data, y=iris.target,\n",
        "    cv = 5)\n",
        "print('avg fit time: {} (+/- {})'.format(cross_val['fit_time'].mean(), cross_val['fit_time'].std()))\n",
        "print('avg score time: {} (+/- {})'.format(cross_val['score_time'].mean(), cross_val['score_time'].std()))\n",
        "print('avg test score: {} (+/- {})'.format(cross_val['test_score'].mean(), cross_val['test_score'].std()))"
      ],
      "execution_count": 126,
      "outputs": [
        {
          "output_type": "stream",
          "text": [
            "avg fit time: 0.0820643424987793 (+/- 0.008682975161650043)\n",
            "avg score time: 0.01017451286315918 (+/- 0.0011979289915524367)\n",
            "avg test score: 0.9466666666666667 (+/- 0.03399346342395189)\n"
          ],
          "name": "stdout"
        }
      ]
    },
    {
      "cell_type": "code",
      "metadata": {
        "id": "lokPXqhru39z",
        "colab": {
          "base_uri": "https://localhost:8080/"
        },
        "outputId": "ea87ad82-f13d-4a04-cc66-bf004495077f"
      },
      "source": [
        "cross_val = cross_validate(\n",
        "    estimator = model,\n",
        "    X = wine.data, y=wine.target,\n",
        "    cv = 5)\n",
        "print('avg fit time: {} (+/- {})'.format(cross_val['fit_time'].mean(), cross_val['fit_time'].std()))\n",
        "print('avg score time: {} (+/- {})'.format(cross_val['score_time'].mean(), cross_val['score_time'].std()))\n",
        "print('avg test score: {} (+/- {})'.format(cross_val['test_score'].mean(), cross_val['test_score'].std()))"
      ],
      "execution_count": 127,
      "outputs": [
        {
          "output_type": "stream",
          "text": [
            "avg fit time: 0.08783283233642578 (+/- 0.004727937835386209)\n",
            "avg score time: 0.010665798187255859 (+/- 0.0015450058047751566)\n",
            "avg test score: 0.8085714285714285 (+/- 0.16822356718459935)\n"
          ],
          "name": "stdout"
        }
      ]
    },
    {
      "cell_type": "code",
      "metadata": {
        "id": "JGe3X_S_u390",
        "colab": {
          "base_uri": "https://localhost:8080/"
        },
        "outputId": "1d856330-350e-4753-a252-401c3607a08c"
      },
      "source": [
        "cross_val = cross_validate(\n",
        "    estimator = model,\n",
        "    X = cancer.data, y=cancer.target,\n",
        "    cv = 5)\n",
        "print('avg fit time: {} (+/- {})'.format(cross_val['fit_time'].mean(), cross_val['fit_time'].std()))\n",
        "print('avg score time: {} (+/- {})'.format(cross_val['score_time'].mean(), cross_val['score_time'].std()))\n",
        "print('avg test score: {} (+/- {})'.format(cross_val['test_score'].mean(), cross_val['test_score'].std()))"
      ],
      "execution_count": 128,
      "outputs": [
        {
          "output_type": "stream",
          "text": [
            "avg fit time: 0.1553345203399658 (+/- 0.0064268288040401685)\n",
            "avg score time: 0.011599922180175781 (+/- 0.0016500261087349635)\n",
            "avg test score: 0.9718677224033534 (+/- 0.0195587047134823)\n"
          ],
          "name": "stdout"
        }
      ]
    },
    {
      "cell_type": "markdown",
      "metadata": {
        "id": "jioy5TgFu390"
      },
      "source": [
        "## AdaBoost 회귀"
      ]
    },
    {
      "cell_type": "code",
      "metadata": {
        "id": "OM0rV8phu390"
      },
      "source": [
        "model = make_pipeline(\n",
        "StandardScaler(),\n",
        "AdaBoostRegressor())"
      ],
      "execution_count": 129,
      "outputs": []
    },
    {
      "cell_type": "code",
      "metadata": {
        "id": "CIbN6zLRu391",
        "colab": {
          "base_uri": "https://localhost:8080/"
        },
        "outputId": "175efa53-1254-4dae-b760-fea2aadd5c75"
      },
      "source": [
        "cross_val = cross_validate(\n",
        "    estimator = model,\n",
        "    X = boston.data, y=boston.target,\n",
        "    cv = 5)\n",
        "print('avg fit time: {} (+/- {})'.format(cross_val['fit_time'].mean(), cross_val['fit_time'].std()))\n",
        "print('avg score time: {} (+/- {})'.format(cross_val['score_time'].mean(), cross_val['score_time'].std()))\n",
        "print('avg test score: {} (+/- {})'.format(cross_val['test_score'].mean(), cross_val['test_score'].std()))"
      ],
      "execution_count": 130,
      "outputs": [
        {
          "output_type": "stream",
          "text": [
            "avg fit time: 0.10846438407897949 (+/- 0.0051777690684497845)\n",
            "avg score time: 0.007131385803222656 (+/- 0.0018161302634834787)\n",
            "avg test score: 0.6160840945348022 (+/- 0.21135705354987636)\n"
          ],
          "name": "stdout"
        }
      ]
    },
    {
      "cell_type": "code",
      "metadata": {
        "id": "uADlXfrUu391",
        "colab": {
          "base_uri": "https://localhost:8080/"
        },
        "outputId": "b32cf4d8-13ca-4f3a-f148-74b09c390095"
      },
      "source": [
        "cross_val = cross_validate(\n",
        "    estimator = model,\n",
        "    X = diabetes.data, y=diabetes.target,\n",
        "    cv = 5)\n",
        "print('avg fit time: {} (+/- {})'.format(cross_val['fit_time'].mean(), cross_val['fit_time'].std()))\n",
        "print('avg score time: {} (+/- {})'.format(cross_val['score_time'].mean(), cross_val['score_time'].std()))\n",
        "print('avg test score: {} (+/- {})'.format(cross_val['test_score'].mean(), cross_val['test_score'].std()))"
      ],
      "execution_count": 131,
      "outputs": [
        {
          "output_type": "stream",
          "text": [
            "avg fit time: 0.08837351799011231 (+/- 0.022017803489331876)\n",
            "avg score time: 0.005043220520019531 (+/- 0.0010938088923437234)\n",
            "avg test score: 0.4171451395318332 (+/- 0.049227586137615256)\n"
          ],
          "name": "stdout"
        }
      ]
    },
    {
      "cell_type": "markdown",
      "metadata": {
        "id": "9ehgrkHLu392"
      },
      "source": [
        "## Gradient Tree Boosting\n",
        "* 임의의 차별화 가능한 손실함수로 일반화한 부스팅 알고리즘\n",
        "* 웹 검색, 분류 및 회귀 등 다양한 분야에서 모두 사용 가능"
      ]
    },
    {
      "cell_type": "code",
      "metadata": {
        "id": "j9rZldTKu392"
      },
      "source": [
        "from sklearn.ensemble import GradientBoostingClassifier\n",
        "from sklearn.ensemble import GradientBoostingRegressor"
      ],
      "execution_count": 132,
      "outputs": []
    },
    {
      "cell_type": "markdown",
      "metadata": {
        "id": "oBkxyJ8Vu392"
      },
      "source": [
        "## Gradient Tree Boosting 분류"
      ]
    },
    {
      "cell_type": "code",
      "metadata": {
        "id": "bVGBqiKyu392"
      },
      "source": [
        "model = make_pipeline(\n",
        "StandardScaler(),\n",
        "GradientBoostingClassifier())"
      ],
      "execution_count": 133,
      "outputs": []
    },
    {
      "cell_type": "code",
      "metadata": {
        "id": "kjcS59b3u393",
        "colab": {
          "base_uri": "https://localhost:8080/"
        },
        "outputId": "dada7d2d-db22-4e5d-bb73-78004ff03d90"
      },
      "source": [
        "cross_val = cross_validate(\n",
        "    estimator = model,\n",
        "    X = iris.data, y=iris.target,\n",
        "    cv = 5)\n",
        "print('avg fit time: {} (+/- {})'.format(cross_val['fit_time'].mean(), cross_val['fit_time'].std()))\n",
        "print('avg score time: {} (+/- {})'.format(cross_val['score_time'].mean(), cross_val['score_time'].std()))\n",
        "print('avg test score: {} (+/- {})'.format(cross_val['test_score'].mean(), cross_val['test_score'].std()))"
      ],
      "execution_count": 134,
      "outputs": [
        {
          "output_type": "stream",
          "text": [
            "avg fit time: 0.23173623085021972 (+/- 0.004153613457429803)\n",
            "avg score time: 0.001339292526245117 (+/- 0.0002843091162548875)\n",
            "avg test score: 0.96 (+/- 0.024944382578492935)\n"
          ],
          "name": "stdout"
        }
      ]
    },
    {
      "cell_type": "code",
      "metadata": {
        "id": "8-FXLevsu393",
        "colab": {
          "base_uri": "https://localhost:8080/"
        },
        "outputId": "f1d2fc73-813c-4449-b254-231c1063e4a8"
      },
      "source": [
        "cross_val = cross_validate(\n",
        "    estimator = model,\n",
        "    X = wine.data, y=wine.target,\n",
        "    cv = 5)\n",
        "print('avg fit time: {} (+/- {})'.format(cross_val['fit_time'].mean(), cross_val['fit_time'].std()))\n",
        "print('avg score time: {} (+/- {})'.format(cross_val['score_time'].mean(), cross_val['score_time'].std()))\n",
        "print('avg test score: {} (+/- {})'.format(cross_val['test_score'].mean(), cross_val['test_score'].std()))"
      ],
      "execution_count": 135,
      "outputs": [
        {
          "output_type": "stream",
          "text": [
            "avg fit time: 0.26354212760925294 (+/- 0.0054722710515464216)\n",
            "avg score time: 0.0011547088623046875 (+/- 7.268434292544008e-05)\n",
            "avg test score: 0.9330158730158731 (+/- 0.03296317528191366)\n"
          ],
          "name": "stdout"
        }
      ]
    },
    {
      "cell_type": "code",
      "metadata": {
        "id": "ib9h3R99u393",
        "colab": {
          "base_uri": "https://localhost:8080/"
        },
        "outputId": "ffb9aa28-82b9-4bec-8904-108b20c591a7"
      },
      "source": [
        "cross_val = cross_validate(\n",
        "    estimator = model,\n",
        "    X = cancer.data, y=cancer.target,\n",
        "    cv = 5)\n",
        "print('avg fit time: {} (+/- {})'.format(cross_val['fit_time'].mean(), cross_val['fit_time'].std()))\n",
        "print('avg score time: {} (+/- {})'.format(cross_val['score_time'].mean(), cross_val['score_time'].std()))\n",
        "print('avg test score: {} (+/- {})'.format(cross_val['test_score'].mean(), cross_val['test_score'].std()))"
      ],
      "execution_count": 136,
      "outputs": [
        {
          "output_type": "stream",
          "text": [
            "avg fit time: 0.3960637092590332 (+/- 0.00902702283154589)\n",
            "avg score time: 0.0011098384857177734 (+/- 6.721915763488112e-05)\n",
            "avg test score: 0.95960254618848 (+/- 0.021167671111828695)\n"
          ],
          "name": "stdout"
        }
      ]
    },
    {
      "cell_type": "markdown",
      "metadata": {
        "id": "UCDY44Idu393"
      },
      "source": [
        "## Gradient Tree Boosting 회귀"
      ]
    },
    {
      "cell_type": "code",
      "metadata": {
        "id": "L16GYa2Hu394"
      },
      "source": [
        "model = make_pipeline(\n",
        "StandardScaler(),\n",
        "GradientBoostingRegressor())"
      ],
      "execution_count": 137,
      "outputs": []
    },
    {
      "cell_type": "code",
      "metadata": {
        "id": "iy8ck2_Du394",
        "colab": {
          "base_uri": "https://localhost:8080/"
        },
        "outputId": "2e326bf3-463e-46df-d320-c3cd6423bd58"
      },
      "source": [
        "cross_val = cross_validate(\n",
        "    estimator = model,\n",
        "    X = boston.data, y=boston.target,\n",
        "    cv = 5)\n",
        "print('avg fit time: {} (+/- {})'.format(cross_val['fit_time'].mean(), cross_val['fit_time'].std()))\n",
        "print('avg score time: {} (+/- {})'.format(cross_val['score_time'].mean(), cross_val['score_time'].std()))\n",
        "print('avg test score: {} (+/- {})'.format(cross_val['test_score'].mean(), cross_val['test_score'].std()))"
      ],
      "execution_count": 138,
      "outputs": [
        {
          "output_type": "stream",
          "text": [
            "avg fit time: 0.12599587440490723 (+/- 0.006877300163439731)\n",
            "avg score time: 0.001219320297241211 (+/- 3.270539827512599e-05)\n",
            "avg test score: 0.6807482440984366 (+/- 0.15697678240332968)\n"
          ],
          "name": "stdout"
        }
      ]
    },
    {
      "cell_type": "code",
      "metadata": {
        "id": "Icm1hKTFu394",
        "colab": {
          "base_uri": "https://localhost:8080/"
        },
        "outputId": "a35ca489-5548-44c8-f93a-906022527cf4"
      },
      "source": [
        "cross_val = cross_validate(\n",
        "    estimator = model,\n",
        "    X = diabetes.data, y=diabetes.target,\n",
        "    cv = 5)\n",
        "print('avg fit time: {} (+/- {})'.format(cross_val['fit_time'].mean(), cross_val['fit_time'].std()))\n",
        "print('avg score time: {} (+/- {})'.format(cross_val['score_time'].mean(), cross_val['score_time'].std()))\n",
        "print('avg test score: {} (+/- {})'.format(cross_val['test_score'].mean(), cross_val['test_score'].std()))"
      ],
      "execution_count": 139,
      "outputs": [
        {
          "output_type": "stream",
          "text": [
            "avg fit time: 0.09940576553344727 (+/- 0.004817314011788784)\n",
            "avg score time: 0.0012047767639160156 (+/- 2.1484887559964634e-05)\n",
            "avg test score: 0.4064036670240882 (+/- 0.06891934812872876)\n"
          ],
          "name": "stdout"
        }
      ]
    },
    {
      "cell_type": "markdown",
      "metadata": {
        "id": "2btafnftu394"
      },
      "source": [
        "## 투표 기반 모델(Voting Classifier)"
      ]
    },
    {
      "cell_type": "markdown",
      "metadata": {
        "id": "J9wb10Lqu395"
      },
      "source": [
        "* 서로 다른 모델들의 결과를 투표를 통해 결합\n",
        "* 두가지 방법으로 투표 가능\n",
        "    + 가장 많이 예측된 클래스를 정답으로 채택(hard voting)\n",
        "    + 예측된 확률의 가중치 평균(soft voting)"
      ]
    },
    {
      "cell_type": "code",
      "metadata": {
        "id": "WQbi_0Wou395"
      },
      "source": [
        "from sklearn.svm import SVC\n",
        "from sklearn.naive_bayes import GaussianNB\n",
        "from sklearn.ensemble import RandomForestClassifier\n",
        "from sklearn.ensemble import VotingClassifier\n",
        "from sklearn.model_selection import cross_val_score\n",
        "\n",
        "import warnings\n",
        "warnings.filterwarnings(action='ignore') # 에러 메시지 안 뜨게 하기 위함"
      ],
      "execution_count": 140,
      "outputs": []
    },
    {
      "cell_type": "markdown",
      "metadata": {
        "id": "3tAZuEr1u395"
      },
      "source": [
        "## Hard Voting"
      ]
    },
    {
      "cell_type": "code",
      "metadata": {
        "id": "AX68YHSQu395"
      },
      "source": [
        "model1 = SVC()\n",
        "model2 = GaussianNB()\n",
        "model3 = RandomForestClassifier()\n",
        "# 각기 다른 알고리즘을 가진 모델을 이용해 투표 기반 모델 만듬\n",
        "vote_model = VotingClassifier(\n",
        "estimators = [('svc', model1), ('naive', model2), ('forest', model3)], # ('추정기 이름', 추정기)의 모음\n",
        "voting = 'hard') # voting 속성으로 hard와 soft 지정\n"
      ],
      "execution_count": 141,
      "outputs": []
    },
    {
      "cell_type": "code",
      "metadata": {
        "id": "1ASIUvgru396",
        "colab": {
          "base_uri": "https://localhost:8080/"
        },
        "outputId": "caf2be7f-7b42-4397-ed33-7a9b8bf08412"
      },
      "source": [
        "for model in (model1, model2, model3, vote_model):\n",
        "    model_name = str(type(model)).split('.')[-1][:-2]\n",
        "    scores = cross_val_score(model, iris.data, iris.target, cv=5)\n",
        "    print('Accuracy: %0.2f [%s]' %(scores.mean(), model_name))"
      ],
      "execution_count": 142,
      "outputs": [
        {
          "output_type": "stream",
          "text": [
            "Accuracy: 0.97 [SVC]\n",
            "Accuracy: 0.95 [GaussianNB]\n",
            "Accuracy: 0.96 [RandomForestClassifier]\n",
            "Accuracy: 0.97 [VotingClassifier]\n"
          ],
          "name": "stdout"
        }
      ]
    },
    {
      "cell_type": "markdown",
      "metadata": {
        "id": "gYUTxDN6u396"
      },
      "source": [
        "## Soft Voting"
      ]
    },
    {
      "cell_type": "code",
      "metadata": {
        "id": "BE8Vtz5Eu396"
      },
      "source": [
        "model1 = SVC(probability=True) # svc모델을 soft voting에 사용하려면 probability=True로 설정해야한다.\n",
        "model2 = GaussianNB()\n",
        "model3 = RandomForestClassifier()\n",
        "vote_model = VotingClassifier(\n",
        "estimators = [('svc', model1), ('naive', model2), ('forest', model3)], \n",
        "voting = 'soft',\n",
        "weights=[2,1,2]) # weights 가중치 (estimators에 하나씩 해당)"
      ],
      "execution_count": 143,
      "outputs": []
    },
    {
      "cell_type": "code",
      "metadata": {
        "id": "7NB1H11Tu397",
        "colab": {
          "base_uri": "https://localhost:8080/"
        },
        "outputId": "ee2011b3-c9d4-41bb-d135-674d0c663e18"
      },
      "source": [
        "for model in (model1, model2, model3, vote_model):\n",
        "    model_name = str(type(model)).split('.')[-1][:-2]\n",
        "    scores = cross_val_score(model, iris.data, iris.target, cv=5)\n",
        "    print('Accuracy: %0.2f [%s]' %(scores.mean(), model_name))"
      ],
      "execution_count": 144,
      "outputs": [
        {
          "output_type": "stream",
          "text": [
            "Accuracy: 0.97 [SVC]\n",
            "Accuracy: 0.95 [GaussianNB]\n",
            "Accuracy: 0.96 [RandomForestClassifier]\n",
            "Accuracy: 0.96 [VotingClassifier]\n"
          ],
          "name": "stdout"
        }
      ]
    }
  ]
}