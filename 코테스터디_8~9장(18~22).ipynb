{
  "nbformat": 4,
  "nbformat_minor": 0,
  "metadata": {
    "colab": {
      "name": "코테스터디_8~9장(18~22).ipynb",
      "provenance": [],
      "collapsed_sections": [],
      "authorship_tag": "ABX9TyP7MkS0CAQ6LySA0WEa7a0S",
      "include_colab_link": true
    },
    "kernelspec": {
      "name": "python3",
      "display_name": "Python 3"
    },
    "language_info": {
      "name": "python"
    }
  },
  "cells": [
    {
      "cell_type": "markdown",
      "metadata": {
        "id": "view-in-github",
        "colab_type": "text"
      },
      "source": [
        "<a href=\"https://colab.research.google.com/github/JUHYUN030/DALC_AI/blob/main/%EC%BD%94%ED%85%8C%EC%8A%A4%ED%84%B0%EB%94%94_8~9%EC%9E%A5(18~22).ipynb\" target=\"_parent\"><img src=\"https://colab.research.google.com/assets/colab-badge.svg\" alt=\"Open In Colab\"/></a>"
      ]
    },
    {
      "cell_type": "markdown",
      "metadata": {
        "id": "WvJocC2qne_s"
      },
      "source": [
        "# 홀짝 연결 리스트(p.233)\n",
        "연결 리스트를 홀수 노드 다음에 짝수 노드가 오도록 재구성해라.  \n",
        "공간 복잡도 O(1), 시간 복잡도 O(n)에 풀이하라"
      ]
    },
    {
      "cell_type": "markdown",
      "metadata": {
        "id": "ik2YTilTv1dw"
      },
      "source": [
        "**예제1**  \n",
        "입력 1->2->3->4->5->NULL  \n",
        "출력 1->3->5->2->4->NULL  \n",
        "\n",
        "**예제2**  \n",
        "입력 2->1->3->5->6->4->7->NULL  \n",
        "출력 2->3->6->7->1->5->4->NULL"
      ]
    },
    {
      "cell_type": "code",
      "metadata": {
        "id": "ZCncXdrbyOPa"
      },
      "source": [
        "def oddEvenList(self, head):\n",
        "    # 예외처리\n",
        "    if not head:\n",
        "      return head\n",
        "    \n",
        "    # 홀수,짝수 노드 처음 값 정의\n",
        "    odd = odd_root = head\n",
        "    even = even_root = head.next\n",
        "    \n",
        "    # 홀짝 노드 처리\n",
        "    while even and even.next:\n",
        "        odd.next = odd.next.next\n",
        "        odd = odd.next\n",
        "\n",
        "        even.next = even.next.next\n",
        "        even = even.next\n",
        "\n",
        "    odd.next = even_root\n",
        "\n",
        "    return odd_root"
      ],
      "execution_count": 2,
      "outputs": []
    },
    {
      "cell_type": "code",
      "metadata": {
        "id": "HOSPxvkrvzzC"
      },
      "source": [
        "def oddEvenList(self, head):\n",
        "    #예외처리\n",
        "    if head is None:\n",
        "        return None\n",
        "    \n",
        "    odd = head\n",
        "    even = head.next\n",
        "    even_head = head.next\n",
        "\n",
        "    #반복하면서 홀짝노드 처리\n",
        "    while even and even.next:\n",
        "        odd.next, even.next = odd.next.next, even.next.next\n",
        "        odd, even = odd.next, even.next\n",
        "\n",
        "    #홀수 노드의 마지막을 짝수 헤드로 연결\n",
        "    odd.next = even_head\n",
        "    return head"
      ],
      "execution_count": 4,
      "outputs": []
    },
    {
      "cell_type": "markdown",
      "metadata": {
        "id": "NhwHfF7v1ho0"
      },
      "source": [
        "# 유효한 괄호 (p.245)\n",
        "괄호로 된 입력값이 올바른지 판별하라"
      ]
    },
    {
      "cell_type": "markdown",
      "metadata": {
        "id": "6Jve1wqy13cj"
      },
      "source": [
        "**예시**  \n",
        "입력 ()[]{}  \n",
        "출력 true"
      ]
    },
    {
      "cell_type": "code",
      "metadata": {
        "id": "Z-NkThClUyzS"
      },
      "source": [
        "def isValid(self, s):\n",
        "    stack = []\n",
        "    table = {\n",
        "        ')':'(',\n",
        "        '}':'{',\n",
        "        ']':'[',\n",
        "    }\n",
        "    for char in s:\n",
        "        if char not in table:\n",
        "            stack.append(char)\n",
        "        elif not stack or table[char] != stack.pop():\n",
        "            return False\n",
        "    return len(stack) == 0\n"
      ],
      "execution_count": 9,
      "outputs": []
    },
    {
      "cell_type": "markdown",
      "metadata": {
        "id": "KrTEhMxW4o-S"
      },
      "source": [
        "# 중복 문자 제거(p.247)  \n",
        "중복된 문자를 제외하고 사전식 순서로 나열하라\n"
      ]
    },
    {
      "cell_type": "markdown",
      "metadata": {
        "id": "YkO-db_37dFH"
      },
      "source": [
        "**예시1**  \n",
        "입력 \"bcabc\"  \n",
        "출력 \"abc\"\n",
        "\n",
        "**예시2**  \n",
        "입력 \"cbacdcbc\"  \n",
        "출력 \"acdb\""
      ]
    },
    {
      "cell_type": "markdown",
      "metadata": {
        "id": "6LDbyBUN8AII"
      },
      "source": [
        "## 1. 재귀를 이용한 분리"
      ]
    },
    {
      "cell_type": "code",
      "metadata": {
        "id": "yfCI0TEn79M1"
      },
      "source": [
        "def removeDuplicateLetters(self, s):\n",
        "    # 집합으로 정렬\n",
        "    for char in sorted(set(s)):\n",
        "        suffix = s[s.index(char):]\n",
        "        # 전체 집합과 접미사 집합이 일치할 때 분리 진행\n",
        "        if set(s) == set(suffix):\n",
        "            return char + self.removeDuplicateLetters(suffix.replace(char, ''))\n",
        "    return ''            "
      ],
      "execution_count": 12,
      "outputs": []
    },
    {
      "cell_type": "markdown",
      "metadata": {
        "id": "Ao47ZZPU9ODv"
      },
      "source": [
        "## 2.스택을 이용한 문자 제거"
      ]
    },
    {
      "cell_type": "code",
      "metadata": {
        "id": "8uCIIcZg9VJo"
      },
      "source": [
        "import collections\n",
        "\n",
        "def removeDuplicateLetters(self, s):\n",
        "    counter, seen, stack = collections.Counter(s), set(),[]\n",
        "\n",
        "    for char in s:\n",
        "        counter[char] -= 1\n",
        "        if char in seen:\n",
        "            continue\n",
        "        \n",
        "        # 뒤에 불일 문자가 남아 있다면 스택에서 제거\n",
        "        while stack and char < stack[-1] and counter[stack[-1]] > 0:\n",
        "            seen.remove(stack.pop())\n",
        "        stack.append(char)\n",
        "    return '',join(stack)  "
      ],
      "execution_count": 13,
      "outputs": []
    }
  ]
}