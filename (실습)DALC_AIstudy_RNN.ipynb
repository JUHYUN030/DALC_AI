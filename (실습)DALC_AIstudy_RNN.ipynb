{
  "nbformat": 4,
  "nbformat_minor": 0,
  "metadata": {
    "kernelspec": {
      "display_name": "Python 3",
      "language": "python",
      "name": "python3"
    },
    "language_info": {
      "codemirror_mode": {
        "name": "ipython",
        "version": 3
      },
      "file_extension": ".py",
      "mimetype": "text/x-python",
      "name": "python",
      "nbconvert_exporter": "python",
      "pygments_lexer": "ipython3",
      "version": "3.7.6"
    },
    "colab": {
      "name": "(실습)DALC_AIstudy_RNN.ipynb",
      "provenance": [],
      "collapsed_sections": [],
      "include_colab_link": true
    }
  },
  "cells": [
    {
      "cell_type": "markdown",
      "metadata": {
        "id": "view-in-github",
        "colab_type": "text"
      },
      "source": [
        "<a href=\"https://colab.research.google.com/github/JUHYUN030/DALC_AI/blob/main/(%EC%8B%A4%EC%8A%B5)DALC_AIstudy_RNN.ipynb\" target=\"_parent\"><img src=\"https://colab.research.google.com/assets/colab-badge.svg\" alt=\"Open In Colab\"/></a>"
      ]
    },
    {
      "cell_type": "code",
      "metadata": {
        "id": "3bTOmj5MsZjg"
      },
      "source": [
        "# 패키지 선언\n",
        "import numpy as np\n",
        "from matplotlib import pyplot as plt\n",
        "from tensorflow.keras import datasets, layers, models"
      ],
      "execution_count": 2,
      "outputs": []
    },
    {
      "cell_type": "code",
      "metadata": {
        "id": "uib2agg3sZvg"
      },
      "source": [
        "# Numpy를 이용하여 Sin 그래프 만들기(700개는 학습 set, 200개는 테스트 set) \n",
        "\n",
        "data = np.sin( np.pi * np.arange(0, 100)* 2.025 ) + np.random.random(100)\n",
        "\n",
        "x = np.array([data[i+j] for i in range(len(data)-10) for j in range(10)])\n",
        "\n",
        "x_train = x[:700].reshape(-1,10,1)\n",
        "\n",
        "x_test = x[700:].reshape(-1,10,1)\n",
        "\n",
        "y = np.array([data[i+10] for i in range(len(data)-10)])\n",
        "\n",
        "y_train = y[:70].reshape(-1,1)\n",
        "\n",
        "y_test = y[70:].reshape(-1,1)"
      ],
      "execution_count": 4,
      "outputs": []
    },
    {
      "cell_type": "code",
      "metadata": {
        "id": "AR3my7RpsZzx"
      },
      "source": [
        "#모델 만들기\n",
        "model = models.Sequential()"
      ],
      "execution_count": 5,
      "outputs": []
    },
    {
      "cell_type": "code",
      "metadata": {
        "id": "HFOg2UgfsZ30"
      },
      "source": [
        "#입력층 생성\n",
        "model.add(layers.SimpleRNN(8,input_shape = (10,1))) "
      ],
      "execution_count": 7,
      "outputs": []
    },
    {
      "cell_type": "code",
      "metadata": {
        "colab": {
          "base_uri": "https://localhost:8080/"
        },
        "id": "zomODku4tbms",
        "outputId": "b69eda98-22a6-476e-9a2e-c7eab4cf0465"
      },
      "source": [
        "#출력층 생성\n",
        "model.add(layers.Dense(1)) \n",
        "model.compile(optimizer='adam',loss='mse')\n",
        "\n",
        "model.fit(x_train,y_train,epochs=400,verbose=0) "
      ],
      "execution_count": 9,
      "outputs": [
        {
          "output_type": "execute_result",
          "data": {
            "text/plain": [
              "<tensorflow.python.keras.callbacks.History at 0x7fa5d3ecaf90>"
            ]
          },
          "metadata": {
            "tags": []
          },
          "execution_count": 9
        }
      ]
    },
    {
      "cell_type": "code",
      "metadata": {
        "id": "gQdT4Q9ktbpS"
      },
      "source": [
        "#예측\n",
        "\n",
        "y_hat = model.predict(x_test)"
      ],
      "execution_count": 11,
      "outputs": []
    }
  ]
}